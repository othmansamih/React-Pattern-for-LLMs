{
  "nbformat": 4,
  "nbformat_minor": 0,
  "metadata": {
    "colab": {
      "provenance": []
    },
    "kernelspec": {
      "name": "python3",
      "display_name": "Python 3"
    },
    "language_info": {
      "name": "python"
    }
  },
  "cells": [
    {
      "cell_type": "code",
      "source": [
        "!pip install groq"
      ],
      "metadata": {
        "colab": {
          "base_uri": "https://localhost:8080/"
        },
        "id": "A3rQMJ-mrCzV",
        "outputId": "1441582e-71b7-47a6-c403-6cde8574c53a"
      },
      "execution_count": 194,
      "outputs": [
        {
          "output_type": "stream",
          "name": "stdout",
          "text": [
            "Requirement already satisfied: groq in /usr/local/lib/python3.10/dist-packages (0.13.1)\n",
            "Requirement already satisfied: anyio<5,>=3.5.0 in /usr/local/lib/python3.10/dist-packages (from groq) (3.7.1)\n",
            "Requirement already satisfied: distro<2,>=1.7.0 in /usr/local/lib/python3.10/dist-packages (from groq) (1.9.0)\n",
            "Requirement already satisfied: httpx<1,>=0.23.0 in /usr/local/lib/python3.10/dist-packages (from groq) (0.28.1)\n",
            "Requirement already satisfied: pydantic<3,>=1.9.0 in /usr/local/lib/python3.10/dist-packages (from groq) (2.10.3)\n",
            "Requirement already satisfied: sniffio in /usr/local/lib/python3.10/dist-packages (from groq) (1.3.1)\n",
            "Requirement already satisfied: typing-extensions<5,>=4.10 in /usr/local/lib/python3.10/dist-packages (from groq) (4.12.2)\n",
            "Requirement already satisfied: idna>=2.8 in /usr/local/lib/python3.10/dist-packages (from anyio<5,>=3.5.0->groq) (3.10)\n",
            "Requirement already satisfied: exceptiongroup in /usr/local/lib/python3.10/dist-packages (from anyio<5,>=3.5.0->groq) (1.2.2)\n",
            "Requirement already satisfied: certifi in /usr/local/lib/python3.10/dist-packages (from httpx<1,>=0.23.0->groq) (2024.12.14)\n",
            "Requirement already satisfied: httpcore==1.* in /usr/local/lib/python3.10/dist-packages (from httpx<1,>=0.23.0->groq) (1.0.7)\n",
            "Requirement already satisfied: h11<0.15,>=0.13 in /usr/local/lib/python3.10/dist-packages (from httpcore==1.*->httpx<1,>=0.23.0->groq) (0.14.0)\n",
            "Requirement already satisfied: annotated-types>=0.6.0 in /usr/local/lib/python3.10/dist-packages (from pydantic<3,>=1.9.0->groq) (0.7.0)\n",
            "Requirement already satisfied: pydantic-core==2.27.1 in /usr/local/lib/python3.10/dist-packages (from pydantic<3,>=1.9.0->groq) (2.27.1)\n"
          ]
        }
      ]
    },
    {
      "cell_type": "code",
      "execution_count": 195,
      "metadata": {
        "id": "3MARn61OqMCl"
      },
      "outputs": [],
      "source": [
        "import os\n",
        "\n",
        "os.environ[\"GROQ_API_KEY\"] = \"YOUR GROQ API KEY HERE\""
      ]
    },
    {
      "cell_type": "code",
      "source": [
        "system_prompt = \"\"\"\n",
        "    You run in a loop of Thought, Action, PAUSE, Observation.\n",
        "\n",
        "    At the end of the loop you output an Answer.\n",
        "    Use Thought to describe your thoughts about the question you have been asked.\n",
        "    Use Action to run one of the actions available to you - then return PAUSE.\n",
        "    Observation will be the result of running those actions.\n",
        "\n",
        "    Your available actions are:\n",
        "\n",
        "    get_planet_mass:\n",
        "    e.g. get_planet_mass: \"Earth\"\n",
        "    Returns the mass of a specified planet in kilograms.\n",
        "\n",
        "    calculate:\n",
        "    e.g. calculate: \"4 * 7 / 3\"\n",
        "    Runs a calculation and returns the number - uses Python, so be sure to use floating point syntax if necessary.\n",
        "\n",
        "    Example session:\n",
        "\n",
        "    Question: What is the sum of the Earth planet mass and Venus planet mass, all multiplied by 3?\n",
        "\n",
        "    Thought: I need to first get the masses of Earth and Venus, then calculate their sum multiplied by 3.\n",
        "    Action: get_planet_mass: \"Earth\"\n",
        "    PAUSE\n",
        "\n",
        "    You will be called again with this:\n",
        "    Observation: The mass of Earth is 5.97237e24 kg.\n",
        "\n",
        "    You then continue:\n",
        "\n",
        "    Thought: Now I need the mass of Venus\n",
        "    Action: get_planet_mass: \"Venus\"\n",
        "    PAUSE\n",
        "\n",
        "    You will be called again with this:\n",
        "    Observation: The mass of Venus is 4.8675e24 kg.\n",
        "\n",
        "    You then continue:\n",
        "\n",
        "    Thought: I will now calculate the sum of these masses multiplied by 3.\n",
        "    Action: calculate: \"(5.97237e24 + 4.8675e24) * 3\"\n",
        "    PAUSE\n",
        "\n",
        "    You will be called again with this:\n",
        "    Observation: The result of the calculation is 3.886941e25.\n",
        "\n",
        "    You then output:\n",
        "\n",
        "    Answer: The sum of the Earth and Venus masses, multiplied by 3, is 3.886941e25 kg.\n",
        "\"\"\".strip()"
      ],
      "metadata": {
        "id": "JPd8A6JIwxRu"
      },
      "execution_count": 196,
      "outputs": []
    },
    {
      "cell_type": "code",
      "source": [
        "def get_planet_mass(planet_name):\n",
        "    \"\"\"\n",
        "    Returns the mass of a planet in the solar system given its name.\n",
        "\n",
        "    Parameters:\n",
        "        planet_name (str): The name of the planet (case-insensitive).\n",
        "\n",
        "    Returns:\n",
        "        float: The mass of the planet in kilograms.\n",
        "        str: Error |message if the planet is not found.\n",
        "    \"\"\"\n",
        "    planet_masses = {\n",
        "        \"mercury\": 3.3011e23,  # kg\n",
        "        \"venus\": 4.8675e24,    # kg\n",
        "        \"earth\": 5.97237e24,   # kg\n",
        "        \"mars\": 6.4171e23,     # kg\n",
        "        \"jupiter\": 1.8982e27,  # kg\n",
        "        \"saturn\": 5.6834e26,   # kg\n",
        "        \"uranus\": 8.6810e25,   # kg\n",
        "        \"neptune\": 1.02413e26, # kg\n",
        "    }\n",
        "\n",
        "    planet_name = planet_name.lower()\n",
        "\n",
        "    if planet_name in planet_masses:\n",
        "        return planet_masses[planet_name]\n",
        "    else:\n",
        "        return f\"Error: '{planet_name}' is not a recognized planet.\"\n",
        "\n",
        "def calculate(expression):\n",
        "    \"\"\"\n",
        "    Performs a calculation given a mathematical expression.\n",
        "\n",
        "    Parameters:\n",
        "        expression (str): The mathematical expression to evaluate.\n",
        "\n",
        "    Returns:\n",
        "        float: The result of the calculation.\n",
        "        str: Error message if the evaluation fails.\n",
        "    \"\"\"\n",
        "    try:\n",
        "        return eval(expression)\n",
        "    except Exception as e:\n",
        "        return f\"Error: {e}\"\n",
        "\n",
        "planet = \"Earth\"\n",
        "mass = get_planet_mass(planet)\n",
        "print(f\"The mass of {planet} is {mass} kg.\")\n",
        "\n",
        "result = calculate(\"10 + 5 * 2\")\n",
        "print(f\"The result of the calculation is {result}.\")"
      ],
      "metadata": {
        "colab": {
          "base_uri": "https://localhost:8080/"
        },
        "id": "UslcOHMFz5Cs",
        "outputId": "5ed6422e-d1b8-45fc-e5ff-d063b7bbc880"
      },
      "execution_count": 197,
      "outputs": [
        {
          "output_type": "stream",
          "name": "stdout",
          "text": [
            "The mass of Earth is 5.97237e+24 kg.\n",
            "The result of the calculation is 20.\n"
          ]
        }
      ]
    },
    {
      "cell_type": "code",
      "source": [
        "from groq import Groq\n",
        "\n",
        "class Agent():\n",
        "  def __init__(self):\n",
        "    self.client = Groq(\n",
        "        api_key=os.environ.get(\"GROQ_API_KEY\")\n",
        "    )\n",
        "    self.model_name = \"llama3-70b-8192\"\n",
        "    self.system_prompt = system_prompt\n",
        "    self.messages = []\n",
        "    if self.system_prompt is not None:\n",
        "      self.messages.append({\"role\": \"system\", \"content\": self.system_prompt})\n",
        "\n",
        "  def __call__(self, user_message=\"\"):\n",
        "    self.messages.append({\"role\": \"user\", \"content\": user_message})\n",
        "    chat_completion = self.client.chat.completions.create(\n",
        "        messages=self.messages,\n",
        "        model=self.model_name,\n",
        "        temperature=0.5\n",
        "    )\n",
        "    self.messages.append({\"role\": \"assistant\", \"content\": chat_completion.choices[0].message.content})\n",
        "    return chat_completion.choices[0].message.content"
      ],
      "metadata": {
        "id": "csPPIfSmraRU"
      },
      "execution_count": 198,
      "outputs": []
    },
    {
      "cell_type": "code",
      "source": [
        "agent = Agent()"
      ],
      "metadata": {
        "id": "bOM9ego1zTF7"
      },
      "execution_count": 199,
      "outputs": []
    },
    {
      "cell_type": "code",
      "source": [
        "result = agent(\"What is the sum of the Earth planet mass and mars planet mass, all multiplied by 2?\")"
      ],
      "metadata": {
        "id": "6dd6smcvzm4V"
      },
      "execution_count": 200,
      "outputs": []
    },
    {
      "cell_type": "code",
      "source": [
        "print(result)"
      ],
      "metadata": {
        "colab": {
          "base_uri": "https://localhost:8080/"
        },
        "id": "HDg59Svc6iYv",
        "outputId": "4032a479-4cfc-4990-c816-796de110f3c1"
      },
      "execution_count": 201,
      "outputs": [
        {
          "output_type": "stream",
          "name": "stdout",
          "text": [
            "Thought: I need to first get the masses of Earth and Mars, then calculate their sum multiplied by 2.\n",
            "\n",
            "Action: get_planet_mass: \"Earth\"\n",
            "PAUSE\n"
          ]
        }
      ]
    },
    {
      "cell_type": "code",
      "source": [
        "observation = get_planet_mass(\"Earth\")\n",
        "next_prompt = f\"Observation: The mass of Earth is {observation} kg.\"\n",
        "result = agent(next_prompt)"
      ],
      "metadata": {
        "id": "u-8odA3z8AZP"
      },
      "execution_count": 202,
      "outputs": []
    },
    {
      "cell_type": "code",
      "source": [
        "print(result)"
      ],
      "metadata": {
        "id": "Z0AA4JQT8foY",
        "colab": {
          "base_uri": "https://localhost:8080/"
        },
        "outputId": "87332e79-7307-43b4-a8fc-244ec464a117"
      },
      "execution_count": 203,
      "outputs": [
        {
          "output_type": "stream",
          "name": "stdout",
          "text": [
            "Thought: Now I need the mass of Mars.\n",
            "\n",
            "Action: get_planet_mass: \"Mars\"\n",
            "PAUSE\n"
          ]
        }
      ]
    },
    {
      "cell_type": "code",
      "source": [
        "observation = get_planet_mass(\"Mars\")\n",
        "next_prompt = f\"Observation: The mass of Mars is {observation} kg.\"\n",
        "result = agent(next_prompt)"
      ],
      "metadata": {
        "id": "G0j4NA3gtstN"
      },
      "execution_count": 204,
      "outputs": []
    },
    {
      "cell_type": "code",
      "source": [
        "print(result)"
      ],
      "metadata": {
        "colab": {
          "base_uri": "https://localhost:8080/"
        },
        "id": "wwy9K8RyxG1W",
        "outputId": "223064e0-d06c-469b-98d0-00b58c8e31be"
      },
      "execution_count": 205,
      "outputs": [
        {
          "output_type": "stream",
          "name": "stdout",
          "text": [
            "Thought: I will now calculate the sum of these masses multiplied by 2.\n",
            "\n",
            "Action: calculate: \"(5.97237e24 + 6.4171e23) * 2\"\n",
            "PAUSE\n"
          ]
        }
      ]
    },
    {
      "cell_type": "code",
      "source": [
        "observation = calculate(\"(5.97237e24 + 6.4171e23) * 2\")\n",
        "next_prompt = f\"Observation: The result of the calculation is {observation} kg.\"\n",
        "result = agent(next_prompt)"
      ],
      "metadata": {
        "id": "1SsPD89LxIGv"
      },
      "execution_count": 206,
      "outputs": []
    },
    {
      "cell_type": "code",
      "source": [
        "print(result)"
      ],
      "metadata": {
        "colab": {
          "base_uri": "https://localhost:8080/"
        },
        "id": "Kg-77V9exWfu",
        "outputId": "66039e71-5549-4bde-9e16-225360df0f2d"
      },
      "execution_count": 207,
      "outputs": [
        {
          "output_type": "stream",
          "name": "stdout",
          "text": [
            "Answer: The sum of the Earth and Mars masses, multiplied by 2, is 1.322816e+25 kg.\n"
          ]
        }
      ]
    },
    {
      "cell_type": "code",
      "source": [
        "agent.messages"
      ],
      "metadata": {
        "colab": {
          "base_uri": "https://localhost:8080/"
        },
        "id": "hl-F13FAyugS",
        "outputId": "27e17992-2398-429b-93d3-33f6e85fc20d"
      },
      "execution_count": 208,
      "outputs": [
        {
          "output_type": "execute_result",
          "data": {
            "text/plain": [
              "[{'role': 'system',\n",
              "  'content': 'You run in a loop of Thought, Action, PAUSE, Observation.\\n\\n    At the end of the loop you output an Answer.\\n    Use Thought to describe your thoughts about the question you have been asked.\\n    Use Action to run one of the actions available to you - then return PAUSE.\\n    Observation will be the result of running those actions.\\n\\n    Your available actions are:\\n\\n    get_planet_mass:\\n    e.g. get_planet_mass: \"Earth\"\\n    Returns the mass of a specified planet in kilograms.\\n\\n    calculate:\\n    e.g. calculate: \"4 * 7 / 3\"\\n    Runs a calculation and returns the number - uses Python, so be sure to use floating point syntax if necessary.\\n\\n    Example session:\\n\\n    Question: What is the sum of the Earth planet mass and Venus planet mass, all multiplied by 3?\\n\\n    Thought: I need to first get the masses of Earth and Venus, then calculate their sum multiplied by 3.\\n    Action: get_planet_mass: \"Earth\"\\n    PAUSE\\n\\n    You will be called again with this:\\n    Observation: The mass of Earth is 5.97237e24 kg.\\n\\n    You then continue:\\n\\n    Thought: Now I need the mass of Venus\\n    Action: get_planet_mass: \"Venus\"\\n    PAUSE\\n\\n    You will be called again with this:\\n    Observation: The mass of Venus is 4.8675e24 kg.\\n\\n    You then continue:\\n\\n    Thought: I will now calculate the sum of these masses multiplied by 3.\\n    Action: calculate: \"(5.97237e24 + 4.8675e24) * 3\"\\n    PAUSE\\n\\n    You will be called again with this:\\n    Observation: The result of the calculation is 3.886941e25.\\n\\n    You then output:\\n\\n    Answer: The sum of the Earth and Venus masses, multiplied by 3, is 3.886941e25 kg.'},\n",
              " {'role': 'user',\n",
              "  'content': 'What is the sum of the Earth planet mass and mars planet mass, all multiplied by 2?'},\n",
              " {'role': 'assistant',\n",
              "  'content': 'Thought: I need to first get the masses of Earth and Mars, then calculate their sum multiplied by 2.\\n\\nAction: get_planet_mass: \"Earth\"\\nPAUSE'},\n",
              " {'role': 'user',\n",
              "  'content': 'Observation: The mass of Earth is 5.97237e+24 kg.'},\n",
              " {'role': 'assistant',\n",
              "  'content': 'Thought: Now I need the mass of Mars.\\n\\nAction: get_planet_mass: \"Mars\"\\nPAUSE'},\n",
              " {'role': 'user',\n",
              "  'content': 'Observation: The mass of Mars is 6.4171e+23 kg.'},\n",
              " {'role': 'assistant',\n",
              "  'content': 'Thought: I will now calculate the sum of these masses multiplied by 2.\\n\\nAction: calculate: \"(5.97237e24 + 6.4171e23) * 2\"\\nPAUSE'},\n",
              " {'role': 'user',\n",
              "  'content': 'Observation: The result of the calculation is 1.322816e+25 kg.'},\n",
              " {'role': 'assistant',\n",
              "  'content': 'Answer: The sum of the Earth and Mars masses, multiplied by 2, is 1.322816e+25 kg.'}]"
            ]
          },
          "metadata": {},
          "execution_count": 208
        }
      ]
    },
    {
      "cell_type": "code",
      "source": [
        "import re\n",
        "from pprint import pprint\n",
        "\n",
        "def agent_loop(query, max_iterations=10):\n",
        "  agent = Agent()\n",
        "\n",
        "  i = 0\n",
        "  next_prompt = query\n",
        "  while i < max_iterations:\n",
        "    i += 1\n",
        "    result = agent(next_prompt)\n",
        "    print(result)\n",
        "    if (\"Action\" and \"PAUSE\") in result:\n",
        "      pattern = r'Action:\\s*(\\w+):\\s*\"([^\"]+)\"'\n",
        "      match = re.search(pattern, result)\n",
        "      action_name = match.group(1)\n",
        "      arguments = match.group(2)\n",
        "\n",
        "      if action_name == \"get_planet_mass\":\n",
        "        observation = get_planet_mass(arguments)\n",
        "        next_prompt = f\"Observation: The mass of {arguments} is {observation} kg.\"\n",
        "      elif action_name == \"calculate\":\n",
        "        observation = calculate(arguments)\n",
        "        next_prompt = f\"Observation: The result of the calculation is {observation} kg.\"\n",
        "      print(next_prompt)\n",
        "    else:\n",
        "      break"
      ],
      "metadata": {
        "id": "xhsw-1kVxbW1"
      },
      "execution_count": 209,
      "outputs": []
    },
    {
      "cell_type": "code",
      "source": [
        "agent_loop(\"What is the sum of the Earth planet mass and mars planet mass, all multiplied by 2\")"
      ],
      "metadata": {
        "colab": {
          "base_uri": "https://localhost:8080/"
        },
        "id": "usq-xQAz6IEH",
        "outputId": "c3c1be0c-1b63-4a7b-f588-895b733b1301"
      },
      "execution_count": 210,
      "outputs": [
        {
          "output_type": "stream",
          "name": "stdout",
          "text": [
            "Thought: I need to first get the masses of Earth and Mars, then calculate their sum multiplied by 2.\n",
            "\n",
            "Action: get_planet_mass: \"Earth\"\n",
            "PAUSE\n",
            "Observation: The mass of Earth is 5.97237e+24 kg.\n",
            "Thought: Now I need the mass of Mars.\n",
            "\n",
            "Action: get_planet_mass: \"Mars\"\n",
            "PAUSE\n",
            "Observation: The mass of Mars is 6.4171e+23 kg.\n",
            "Thought: I will now calculate the sum of these masses multiplied by 2.\n",
            "\n",
            "Action: calculate: \"(5.97237e24 + 6.4171e23) * 2\"\n",
            "PAUSE\n",
            "Observation: The result of the calculation is 1.322816e+25 kg.\n",
            "Answer: The sum of the Earth and Mars masses, multiplied by 2, is 1.322816e+25 kg.\n"
          ]
        }
      ]
    }
  ]
}
